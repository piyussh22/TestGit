{
 "cells": [
  {
   "cell_type": "code",
   "execution_count": null,
   "id": "7eed844b",
   "metadata": {},
   "outputs": [
    {
     "name": "stdout",
     "output_type": "stream",
     "text": [
      "Enter number of Missionaries or Cannibales : 4\n",
      "current status :\n",
      "Left side => cannibals : 4, Missionaries : 4\n",
      "Choose 2 or 1 person to travel from left to right.\n"
     ]
    }
   ],
   "source": [
    "missionaries = int(input('Enter number of Missionaries or Cannibales : '))\n",
    "Cannibals = missionaries\n",
    "turn = 0\n",
    "leftCannibals = missionaries\n",
    "leftMissionaries = missionaries\n",
    "rightCannibals = 0\n",
    "rightMissionaries = 0\n",
    "\n",
    "while(1):\n",
    "    print(\"current status :\")\n",
    "    if(turn == 0):\n",
    "        print(f\"Left side => cannibals : {leftCannibals}, Missionaries : {leftMissionaries}\")\n",
    "        print(\"Choose 2 or 1 person to travel from left to right.\")\n",
    "        person1 = int(input('Number of Missionaries : '))\n",
    "        person2 = int(input('Number of cannibals : '))\n",
    "        if(person1 == 0 and person2 == 0):\n",
    "            print(\"Wrong input\")\n",
    "            break\n",
    "        if(leftMissionaries<person1 or leftCannibals<person2 or (person1+person2)>2):\n",
    "            print(\"Wrong input\")\n",
    "            break\n",
    "        leftMissionaries -= person1\n",
    "        leftCannibals -= person2\n",
    "        rightMissionaries += person1\n",
    "        rightCannibals += person2\n",
    "    else :\n",
    "        print(f\"Right side => cannibals : {rightCannibals}, Missionaries : {rightMissionaries}\")\n",
    "        print(\"Choose 2 or 1 person to travel from right to left. \")\n",
    "        person1 = int(input('Number of Missionaries : '))\n",
    "        person2 = int(input('Number of cannibals : '))\n",
    "        if(person1 == 0 and person2 == 0 ):\n",
    "            print(\"Wrong input\")\n",
    "            break\n",
    "        if(rightMissionaries<person1 or rightCannibals<person2 or (person1+person2)>2):\n",
    "            print(\"Wrong input\")\n",
    "            break\n",
    "        leftMissionaries += person1\n",
    "        leftCannibals += person2\n",
    "        rightMissionaries -= person1\n",
    "        rightCannibals -= person2\n",
    "        \n",
    "    if((leftCannibals>leftMissionaries and leftMissionaries > 0) or (rightCannibals>rightMissionaries and rightMissionaries > 0)):\n",
    "        print(\"Lost!!\")\n",
    "        break\n",
    "            \n",
    "    if(leftCannibals == 0 and leftMissionaries == 0 and rightCannibals == Cannibals and rightMissionaries == Cannibals):\n",
    "        print(\"Success!!\")\n",
    "        break\n",
    "            \n",
    "    turn = 1-turn "
   ]
  },
  {
   "cell_type": "code",
   "execution_count": null,
   "id": "7c4758d5",
   "metadata": {},
   "outputs": [],
   "source": []
  }
 ],
 "metadata": {
  "kernelspec": {
   "display_name": "Python 3",
   "language": "python",
   "name": "python3"
  },
  "language_info": {
   "codemirror_mode": {
    "name": "ipython",
    "version": 3
   },
   "file_extension": ".py",
   "mimetype": "text/x-python",
   "name": "python",
   "nbconvert_exporter": "python",
   "pygments_lexer": "ipython3",
   "version": "3.8.8"
  }
 },
 "nbformat": 4,
 "nbformat_minor": 5
}
