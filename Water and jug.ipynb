{
 "cells": [
  {
   "cell_type": "code",
   "execution_count": null,
   "id": "278efa72",
   "metadata": {},
   "outputs": [],
   "source": [
    "from collections import defaultdict\n",
    "jug1=int(input(\"enter jug1 capacity: \"))\n",
    "jug2=int(input(\"enter jug2 capacity: \"))\n",
    "aim=int(input(\"enter aim capacity: \"))\n",
    "\n",
    "visited=defaultdict(lambda:False)\n",
    "\n",
    "def waterjug(amt1,amt2):\n",
    "    if (amt1==0 and amt2==aim)  or (amt1==aim and amt2==0):\n",
    "        print(amt1,amt2)\n",
    "        return True\n",
    "        \n",
    "    if visited[(amt1,amt2)]==False:\n",
    "        print(amt1,amt2)\n",
    "        # return True\n",
    "        visited[(amt1,amt2)]=True\n",
    "    \n",
    "        return (waterjug(amt1,0) or\n",
    "               waterjug(0,amt2) or\n",
    "               waterjug(amt1,jug2) or\n",
    "               waterjug(jug1,amt2) or\n",
    "               waterjug(amt1 +min(amt2,jug1-amt1),amt2-min(amt2,(jug1-amt1))) or\n",
    "               waterjug(amt1- min(amt1,jug2-amt2),amt2+min(amt1,jug2-amt2)) \n",
    "               )\n",
    "    else:\n",
    "        return False\n",
    "print(\"steps\")\n",
    "waterjug(0,0)"
   ]
  }
 ],
 "metadata": {
  "kernelspec": {
   "display_name": "Python 3",
   "language": "python",
   "name": "python3"
  },
  "language_info": {
   "codemirror_mode": {
    "name": "ipython",
    "version": 3
   },
   "file_extension": ".py",
   "mimetype": "text/x-python",
   "name": "python",
   "nbconvert_exporter": "python",
   "pygments_lexer": "ipython3",
   "version": "3.8.8"
  }
 },
 "nbformat": 4,
 "nbformat_minor": 5
}
